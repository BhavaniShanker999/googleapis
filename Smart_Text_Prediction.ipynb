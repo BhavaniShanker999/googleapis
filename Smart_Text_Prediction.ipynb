{
  "nbformat": 4,
  "nbformat_minor": 0,
  "metadata": {
    "colab": {
      "name": "Smart Text Prediction.ipynb",
      "provenance": []
    },
    "kernelspec": {
      "name": "python3",
      "display_name": "Python 3"
    }
  },
  "cells": [
    {
      "cell_type": "markdown",
      "metadata": {
        "id": "LPHLUjMHE1YA"
      },
      "source": [
        "                      \r\n",
        "                      **Python code : Smart word-prediction for a sentence **"
      ]
    },
    {
      "cell_type": "code",
      "metadata": {
        "id": "SrqB6k8kLrjV"
      },
      "source": [
        "# Libraries\r\n",
        "from numpy import array\r\n",
        "from keras.preprocessing.text import Tokenizer\r\n",
        "from keras.utils import to_categorical\r\n",
        "from keras.models import Sequential\r\n",
        "from keras.layers import Dense,LSTM,Embedding\r\n"
      ],
      "execution_count": 1,
      "outputs": []
    },
    {
      "cell_type": "code",
      "metadata": {
        "id": "RFzn2RKaTRBr"
      },
      "source": [
        "# Text on which our model is getting trained and \r\n",
        "data = \"\"\"[Today’s Date]\r\n",
        "[341 Company Address]\r\n",
        "Company City, State xxxxx\r\n",
        "(xxx) xxx-xxxx\r\n",
        "[hiring.manager@gmail.com]\r\n",
        "Dear Mr./Mrs./Ms. (Manager’s Name),\r\n",
        "I’m contacting you regarding your advertisement for the Human Resources opening listed on your website. My interest in this position stems from my belief that I have the right combination of relevant staffing experience, communication skills, and high levels of organization that make me a superb candidate.\r\n",
        "To date I feel my strongest abilities are:\r\n",
        "Increasing employee retention by rigorously maintaining a positive work environment\r\n",
        "Developing targeted outreach recruitment programs to recruit the best talent and meet all departmental hiring requirements\r\n",
        "Creating user-friendly application forms and questionnaires to be used by the organization during staff recruitment and interviewing.\r\n",
        "Arbitrating labor disputes in collaboration with the legal department.\r\n",
        "I consider myself to be a dedicated and dependable individual who possesses excellent verbal and written communication skills. I feel that a relationship with your company would be mutually beneficial, as my educational background, HR experience, and qualifications would make me a perfect fit for your Human Resources position, and would also allow me to refine my skills in a new working environment.\r\n",
        "In closing, I would like to thank you for your time and attention, and I hope to have the chance to discuss the opening with you in person.\r\n",
        "\r\n",
        "Sincerely,\"\"\"\r\n"
      ],
      "execution_count": 2,
      "outputs": []
    },
    {
      "cell_type": "code",
      "metadata": {
        "id": "7vuQ1AWlT4yl"
      },
      "source": [
        "# encoding the text[data] into integers\r\n",
        "tokenizer = Tokenizer()\r\n",
        "tokenizer.fit_on_texts([data])\r\n",
        "encoded_data = tokenizer.texts_to_sequences([data])[0]\r\n",
        "# encoded_data"
      ],
      "execution_count": 3,
      "outputs": []
    },
    {
      "cell_type": "code",
      "metadata": {
        "id": "P9yrvUhbUsnv"
      },
      "source": [
        "# get number of different words present in text[vocabulary size]\r\n",
        "vocab_size = len(tokenizer.word_index)+1 \r\n",
        "# 1 is added because the 0 is reserved for padding\r\n",
        "print(\"vocab_size: \",vocab_size)"
      ],
      "execution_count": null,
      "outputs": []
    },
    {
      "cell_type": "code",
      "metadata": {
        "id": "eJ0xlJONVp0Q"
      },
      "source": [
        "# code to predict the next word and create sequences with input and output word\r\n",
        "sequences = []\r\n",
        "for i in range(1,len(encoded_data)):\r\n",
        "  sequence = encoded_data[i-1:i+1]\r\n",
        "  sequences.append(sequence)\r\n",
        "print(\"Total sequences list\",len(sequences))"
      ],
      "execution_count": null,
      "outputs": []
    },
    {
      "cell_type": "code",
      "metadata": {
        "id": "qVdEDj-JWjBZ"
      },
      "source": [
        "sequences = array(sequences)\r\n",
        "sequences"
      ],
      "execution_count": null,
      "outputs": []
    },
    {
      "cell_type": "code",
      "metadata": {
        "id": "3aaD9JvqXduo"
      },
      "source": [
        "# splitting sequences into x and y\r\n",
        "x,y = sequences[:,0],sequences[:,1]"
      ],
      "execution_count": 7,
      "outputs": []
    },
    {
      "cell_type": "code",
      "metadata": {
        "id": "jxdD-WJSXrrL"
      },
      "source": [
        "y = to_categorical(y , num_classes= vocab_size)"
      ],
      "execution_count": 8,
      "outputs": []
    },
    {
      "cell_type": "code",
      "metadata": {
        "id": "dBMwhsqsYWee"
      },
      "source": [
        "model = Sequential()\r\n",
        "model.add((Embedding(vocab_size,10,input_length =1)))\r\n",
        "model.add(LSTM(50))\r\n",
        "model.add(Dense(vocab_size , activation = 'softmax'))\r\n",
        "print(model.summary())"
      ],
      "execution_count": null,
      "outputs": []
    },
    {
      "cell_type": "code",
      "metadata": {
        "id": "tUoEY768Zcf1"
      },
      "source": [
        "model.compile(loss = 'categorical_crossentropy', optimizer='adam', metrics=['accuracy'])"
      ],
      "execution_count": 10,
      "outputs": []
    },
    {
      "cell_type": "code",
      "metadata": {
        "id": "SfY0Q10NZuKQ"
      },
      "source": [
        "model.fit(x,y, epochs=100)"
      ],
      "execution_count": null,
      "outputs": []
    },
    {
      "cell_type": "code",
      "metadata": {
        "id": "3JS3sep7aMoW"
      },
      "source": [
        "#generate a sequence for the word from the model\r\n",
        "def gen_seq(model , tokenizer , enter_text , n_pred):\r\n",
        "  in_text, result = enter_text,enter_text\r\n",
        "\r\n",
        "  for _ in range(n_pred):\r\n",
        "    encoded = tokenizer.texts_to_sequences([in_text])[0]\r\n",
        "    encoded = array(encoded)\r\n",
        "\r\n",
        "    yhat = model.predict_classes(encoded)\r\n",
        "\r\n",
        "    out_word = ''\r\n",
        "    for word , index in tokenizer.word_index.items():\r\n",
        "      if index == yhat:\r\n",
        "        out_word = word\r\n",
        "        break\r\n",
        "    in_text , result  = out_word , result +' '+ out_word\r\n",
        "  return result\r\n"
      ],
      "execution_count": 12,
      "outputs": []
    },
    {
      "cell_type": "code",
      "metadata": {
        "id": "pFhKoehYb4ZV"
      },
      "source": [
        "print(gen_seq(model , tokenizer ,'strongest',4))"
      ],
      "execution_count": null,
      "outputs": []
    }
  ]
}