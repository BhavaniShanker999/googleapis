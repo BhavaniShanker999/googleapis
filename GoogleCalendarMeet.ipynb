{
  "nbformat": 4,
  "nbformat_minor": 0,
  "metadata": {
    "colab": {
      "name": "GoogleCalendarMeet.ipynb",
      "provenance": []
    },
    "kernelspec": {
      "name": "python3",
      "display_name": "Python 3"
    }
  },
  "cells": [
    {
      "cell_type": "code",
      "metadata": {
        "id": "_q-wqWf0gtRm"
      },
      "source": [
        "from apiclient.discovery import build\r\n",
        "from google_auth_oauthlib.flow import InstalledAppFlow"
      ],
      "execution_count": null,
      "outputs": []
    },
    {
      "cell_type": "code",
      "metadata": {
        "id": "koIhiRzLhIm3"
      },
      "source": [
        "scopes=['https://www.googleapis.com/auth/calendar']\r\n"
      ],
      "execution_count": 18,
      "outputs": []
    },
    {
      "cell_type": "code",
      "metadata": {
        "colab": {
          "base_uri": "https://localhost:8080/"
        },
        "id": "IKfH_q8ShT7a",
        "outputId": "e0ac19bd-0ba2-409d-d2df-8771ae9a103e"
      },
      "source": [
        "flow = InstalledAppFlow.from_client_secrets_file('x.json',scopes=scopes)\r\n",
        "credentials=flow.run_console()"
      ],
      "execution_count": 21,
      "outputs": [
        {
          "output_type": "stream",
          "text": [
            "Please visit this URL to authorize this application: https://accounts.google.com/o/oauth2/auth?response_type=code&client_id=890531034395-9n0ppjq6898pa8bgt0f2ttv5ai02q70f.apps.googleusercontent.com&redirect_uri=urn%3Aietf%3Awg%3Aoauth%3A2.0%3Aoob&scope=https%3A%2F%2Fwww.googleapis.com%2Fauth%2Fcalendar&state=37BEGBpwXb0H9yHMYFEgjRgmwi65RX&prompt=consent&access_type=offline\n",
            "Enter the authorization code: 4/1AY0e-g6-30v_8WVX4yvmrsUch4tVSL6RbXMRBgIziZfOT3q7z3aFbv4i9FI\n"
          ],
          "name": "stdout"
        }
      ]
    },
    {
      "cell_type": "code",
      "metadata": {
        "id": "PnZv3YRzm_sX"
      },
      "source": [
        "import pickle"
      ],
      "execution_count": 22,
      "outputs": []
    },
    {
      "cell_type": "code",
      "metadata": {
        "id": "of9jrELonWUO"
      },
      "source": [
        "pickle.dump(credentials,open(\"token.pkl\",\"wb\"))"
      ],
      "execution_count": 25,
      "outputs": []
    },
    {
      "cell_type": "code",
      "metadata": {
        "id": "OjeG_DzMnYDM"
      },
      "source": [
        "credentials= pickle.load(open(\"token.pkl\",\"rb\"))\r\n"
      ],
      "execution_count": 27,
      "outputs": []
    },
    {
      "cell_type": "code",
      "metadata": {
        "colab": {
          "base_uri": "https://localhost:8080/"
        },
        "id": "W5kFnotRopcf",
        "outputId": "926d4172-1f37-4d52-a8e3-80ff77eceef8"
      },
      "source": [
        "credentials"
      ],
      "execution_count": 28,
      "outputs": [
        {
          "output_type": "execute_result",
          "data": {
            "text/plain": [
              "<google.oauth2.credentials.Credentials at 0x7f8ddbacafd0>"
            ]
          },
          "metadata": {
            "tags": []
          },
          "execution_count": 28
        }
      ]
    },
    {
      "cell_type": "code",
      "metadata": {
        "id": "M8-bnkODoqaq"
      },
      "source": [
        "service = build(\"calendar\",\"v3\",credentials=credentials)"
      ],
      "execution_count": 29,
      "outputs": []
    },
    {
      "cell_type": "code",
      "metadata": {
        "id": "avqDf5igo7IW"
      },
      "source": [
        "calist=service.calendarList().list().execute()"
      ],
      "execution_count": 103,
      "outputs": []
    },
    {
      "cell_type": "code",
      "metadata": {
        "colab": {
          "base_uri": "https://localhost:8080/"
        },
        "id": "YN9a8SuhpMlK",
        "outputId": "daf30698-19b1-4ecc-8fc6-a8172986cae7"
      },
      "source": [
        "calist['items']"
      ],
      "execution_count": 104,
      "outputs": [
        {
          "output_type": "execute_result",
          "data": {
            "text/plain": [
              "[{'accessRole': 'owner',\n",
              "  'backgroundColor': '#9fe1e7',\n",
              "  'colorId': '14',\n",
              "  'conferenceProperties': {'allowedConferenceSolutionTypes': ['hangoutsMeet']},\n",
              "  'defaultReminders': [{'method': 'popup', 'minutes': 30}],\n",
              "  'etag': '\"1547180438464000\"',\n",
              "  'foregroundColor': '#000000',\n",
              "  'id': 'bhavanigloled@gmail.com',\n",
              "  'kind': 'calendar#calendarListEntry',\n",
              "  'notificationSettings': {'notifications': [{'method': 'email',\n",
              "     'type': 'eventCreation'},\n",
              "    {'method': 'email', 'type': 'eventChange'},\n",
              "    {'method': 'email', 'type': 'eventCancellation'},\n",
              "    {'method': 'email', 'type': 'eventResponse'}]},\n",
              "  'primary': True,\n",
              "  'selected': True,\n",
              "  'summary': 'bhavanigloled@gmail.com',\n",
              "  'timeZone': 'Asia/Kolkata'},\n",
              " {'accessRole': 'reader',\n",
              "  'backgroundColor': '#92e1c0',\n",
              "  'colorId': '13',\n",
              "  'conferenceProperties': {'allowedConferenceSolutionTypes': ['hangoutsMeet']},\n",
              "  'defaultReminders': [],\n",
              "  'description': 'Displays birthdays, anniversaries, and other event dates of people in Google Contacts.',\n",
              "  'etag': '\"1615962158299000\"',\n",
              "  'foregroundColor': '#000000',\n",
              "  'id': 'addressbook#contacts@group.v.calendar.google.com',\n",
              "  'kind': 'calendar#calendarListEntry',\n",
              "  'summary': 'Birthdays',\n",
              "  'timeZone': 'Asia/Kolkata'},\n",
              " {'accessRole': 'reader',\n",
              "  'backgroundColor': '#16a765',\n",
              "  'colorId': '8',\n",
              "  'conferenceProperties': {'allowedConferenceSolutionTypes': ['hangoutsMeet']},\n",
              "  'defaultReminders': [],\n",
              "  'description': 'Holidays and Observances in India',\n",
              "  'etag': '\"1615962161170000\"',\n",
              "  'foregroundColor': '#000000',\n",
              "  'id': 'en.indian#holiday@group.v.calendar.google.com',\n",
              "  'kind': 'calendar#calendarListEntry',\n",
              "  'summary': 'Holidays in India',\n",
              "  'timeZone': 'Asia/Kolkata'}]"
            ]
          },
          "metadata": {
            "tags": []
          },
          "execution_count": 104
        }
      ]
    },
    {
      "cell_type": "code",
      "metadata": {
        "id": "BxepDn3FpNTX"
      },
      "source": [
        "id =  calist['items'][0]['id']"
      ],
      "execution_count": 80,
      "outputs": []
    },
    {
      "cell_type": "code",
      "metadata": {
        "id": "RqoHVTcjrxoH"
      },
      "source": [
        "events = service.events().list(calendarId=id, timeZone =\"Asia/Kolkota\").execute()"
      ],
      "execution_count": 81,
      "outputs": []
    },
    {
      "cell_type": "code",
      "metadata": {
        "id": "s1Srv5Hqr8Rq"
      },
      "source": [
        "events['items'][1]"
      ],
      "execution_count": null,
      "outputs": []
    },
    {
      "cell_type": "code",
      "metadata": {
        "id": "MSJfpebUxvET"
      },
      "source": [
        "from datetime import datetime, timedelta\r\n"
      ],
      "execution_count": 83,
      "outputs": []
    },
    {
      "cell_type": "code",
      "metadata": {
        "id": "qupWyiYWx2go"
      },
      "source": [
        "start_time = datetime(2021,3,23,12,50,0)\r\n",
        "end_time = start_time + timedelta(hours=1)\r\n",
        "timezone = 'Asia/Kolkata'"
      ],
      "execution_count": 99,
      "outputs": []
    },
    {
      "cell_type": "code",
      "metadata": {
        "id": "dOJKzMoYx2Jw"
      },
      "source": [
        ""
      ],
      "execution_count": null,
      "outputs": []
    },
    {
      "cell_type": "code",
      "metadata": {
        "id": "oGjhYssctert"
      },
      "source": [
        "event = {\r\n",
        "  'summary': 'This is a sample calendar invite for interview purpose',\r\n",
        "  'location': 'hyd',\r\n",
        "  'description': 'Your interview Remainder',\r\n",
        "  'start': {\r\n",
        "    'dateTime': start_time.strftime(\"%Y-%m-%dT%H:%M:%S\"),\r\n",
        "    'timeZone': timezone,\r\n",
        "  },\r\n",
        "  'end': {\r\n",
        "    'dateTime': end_time.strftime(\"%Y-%m-%dT%H:%M:%S\"),\r\n",
        "    'timeZone': timezone,\r\n",
        "  },\r\n",
        "  'recurrence': [\r\n",
        "    'RRULE:FREQ=DAILY;COUNT=1'\r\n",
        "  ],\r\n",
        "  'attendees': [\r\n",
        "    {'email': 'shankerb.u@gmail.com'},\r\n",
        "    # {'email': 'pradip.nandwana@indianpac.com'},\r\n",
        "    # {'email': 'victor.neerugatti@indianpac.com'}\r\n",
        "    \r\n",
        "\r\n",
        "  ],\r\n",
        "  'reminders': {\r\n",
        "    'useDefault': False,\r\n",
        "    'overrides': [\r\n",
        "      {'method': 'email', 'minutes': 0},\r\n",
        "      {'method': 'popup', 'minutes': 10},\r\n",
        "    ],\r\n",
        "  },\r\n",
        "}\r\n",
        "\r\n",
        "event = service.events().insert(calendarId=id, body=event).execute()\r\n"
      ],
      "execution_count": 102,
      "outputs": []
    }
  ]
}